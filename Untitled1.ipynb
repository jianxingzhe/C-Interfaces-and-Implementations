{
  "nbformat": 4,
  "nbformat_minor": 0,
  "metadata": {
    "colab": {
      "provenance": [],
      "authorship_tag": "ABX9TyMewaPGTeh4FqaGCMqnfCQZ",
      "include_colab_link": true
    },
    "kernelspec": {
      "name": "python3",
      "display_name": "Python 3"
    },
    "language_info": {
      "name": "python"
    },
    "accelerator": "GPU",
    "gpuClass": "standard"
  },
  "cells": [
    {
      "cell_type": "markdown",
      "metadata": {
        "id": "view-in-github",
        "colab_type": "text"
      },
      "source": [
        "<a href=\"https://colab.research.google.com/github/jianxingzhe/C-Interfaces-and-Implementations/blob/master/Untitled1.ipynb\" target=\"_parent\"><img src=\"https://colab.research.google.com/assets/colab-badge.svg\" alt=\"Open In Colab\"/></a>"
      ]
    },
    {
      "cell_type": "code",
      "source": [
        "!git clone https://github.com/AUTOMATIC1111/stable-diffusion-webui"
      ],
      "metadata": {
        "colab": {
          "base_uri": "https://localhost:8080/"
        },
        "id": "j3Tfeq6qdvpq",
        "outputId": "7a696ac0-ce4e-42da-8705-314e963689e1"
      },
      "execution_count": 3,
      "outputs": [
        {
          "output_type": "stream",
          "name": "stdout",
          "text": [
            "Cloning into 'stable-diffusion-webui'...\n",
            "remote: Enumerating objects: 17850, done.\u001b[K\n",
            "remote: Counting objects: 100% (4/4), done.\u001b[K\n",
            "remote: Compressing objects: 100% (4/4), done.\u001b[K\n",
            "remote: Total 17850 (delta 0), reused 0 (delta 0), pack-reused 17846\u001b[K\n",
            "Receiving objects: 100% (17850/17850), 28.23 MiB | 37.34 MiB/s, done.\n",
            "Resolving deltas: 100% (12499/12499), done.\n"
          ]
        }
      ]
    },
    {
      "cell_type": "code",
      "source": [
        "%cd /content/stable-diffusion-webui/extensions\n"
      ],
      "metadata": {
        "colab": {
          "base_uri": "https://localhost:8080/"
        },
        "id": "ByH6KBOSd5HD",
        "outputId": "1e48f6ce-f04e-4a0c-a276-c4568dd57626"
      },
      "execution_count": 4,
      "outputs": [
        {
          "output_type": "stream",
          "name": "stdout",
          "text": [
            "/content/stable-diffusion-webui/extensions\n"
          ]
        }
      ]
    },
    {
      "cell_type": "code",
      "source": [
        "!wget https://huggingface.co/SakerLy/chilloutmix_NiPrunedFp32Fix/resolve/main/chilloutmix_NiPrunedFp32Fix.safetensors -O /content/stable-diffusion-webui/models/Stable-diffusion/chilloutmix_NiPrunedFp32Fix.safetensors"
      ],
      "metadata": {
        "colab": {
          "base_uri": "https://localhost:8080/"
        },
        "id": "mzdgWT1jeOAl",
        "outputId": "25fe3157-c815-4564-8fbf-aef7911e8c8b"
      },
      "execution_count": 5,
      "outputs": [
        {
          "output_type": "stream",
          "name": "stdout",
          "text": [
            "--2023-03-30 12:23:17--  https://huggingface.co/SakerLy/chilloutmix_NiPrunedFp32Fix/resolve/main/chilloutmix_NiPrunedFp32Fix.safetensors\n",
            "Resolving huggingface.co (huggingface.co)... 35.173.225.216, 52.2.178.255, 34.203.133.210, ...\n",
            "Connecting to huggingface.co (huggingface.co)|35.173.225.216|:443... connected.\n",
            "HTTP request sent, awaiting response... 302 Found\n",
            "Location: https://cdn-lfs.huggingface.co/repos/d9/fb/d9fbecac7bcdab2a897dd2e2306fe148cd06cec45416a2b4a843d64f147cc12e/fc2511737a54c5e80b89ab03e0ab4b98d051ab187f92860f3cd664dc9d08b271?response-content-disposition=attachment%3B+filename*%3DUTF-8%27%27chilloutmix_NiPrunedFp32Fix.safetensors%3B+filename%3D%22chilloutmix_NiPrunedFp32Fix.safetensors%22%3B&Expires=1680438198&Policy=eyJTdGF0ZW1lbnQiOlt7IlJlc291cmNlIjoiaHR0cHM6Ly9jZG4tbGZzLmh1Z2dpbmdmYWNlLmNvL3JlcG9zL2Q5L2ZiL2Q5ZmJlY2FjN2JjZGFiMmE4OTdkZDJlMjMwNmZlMTQ4Y2QwNmNlYzQ1NDE2YTJiNGE4NDNkNjRmMTQ3Y2MxMmUvZmMyNTExNzM3YTU0YzVlODBiODlhYjAzZTBhYjRiOThkMDUxYWIxODdmOTI4NjBmM2NkNjY0ZGM5ZDA4YjI3MT9yZXNwb25zZS1jb250ZW50LWRpc3Bvc2l0aW9uPSoiLCJDb25kaXRpb24iOnsiRGF0ZUxlc3NUaGFuIjp7IkFXUzpFcG9jaFRpbWUiOjE2ODA0MzgxOTh9fX1dfQ__&Signature=uXehtBbwR1CnOjNVQWQ4%7E42MzJVk5BX4cyrGNiMQY7oSr9%7EZFs5weMKAM9IGpHPwVaVgwxoeHU0f9P%7E%7El4ZXgs8dkk6NNlh20cn9GYn7q7l54-AwDQdKtZbg22ICTemRog2XslSGUSEUltDqCgYrwoEyOUIshbNK0EgTqHlP9-eg3529IuD2MJc27BTmPV2Fj3V-xuPGXo3RTsjHaMieuFxm6rvpU-g%7Elrs%7Ety3QcOeDlmNOJbt2tBE-GmBgHwagPFosq7-UyikfR5U9%7E%7ESbsZZsJQdV66wmkx-EGtWZ6gYXduE2ywz2nrgXXro7qgn207q0I8sH84jqdIZ4-wTFIQ__&Key-Pair-Id=KVTP0A1DKRTAX [following]\n",
            "--2023-03-30 12:23:18--  https://cdn-lfs.huggingface.co/repos/d9/fb/d9fbecac7bcdab2a897dd2e2306fe148cd06cec45416a2b4a843d64f147cc12e/fc2511737a54c5e80b89ab03e0ab4b98d051ab187f92860f3cd664dc9d08b271?response-content-disposition=attachment%3B+filename*%3DUTF-8%27%27chilloutmix_NiPrunedFp32Fix.safetensors%3B+filename%3D%22chilloutmix_NiPrunedFp32Fix.safetensors%22%3B&Expires=1680438198&Policy=eyJTdGF0ZW1lbnQiOlt7IlJlc291cmNlIjoiaHR0cHM6Ly9jZG4tbGZzLmh1Z2dpbmdmYWNlLmNvL3JlcG9zL2Q5L2ZiL2Q5ZmJlY2FjN2JjZGFiMmE4OTdkZDJlMjMwNmZlMTQ4Y2QwNmNlYzQ1NDE2YTJiNGE4NDNkNjRmMTQ3Y2MxMmUvZmMyNTExNzM3YTU0YzVlODBiODlhYjAzZTBhYjRiOThkMDUxYWIxODdmOTI4NjBmM2NkNjY0ZGM5ZDA4YjI3MT9yZXNwb25zZS1jb250ZW50LWRpc3Bvc2l0aW9uPSoiLCJDb25kaXRpb24iOnsiRGF0ZUxlc3NUaGFuIjp7IkFXUzpFcG9jaFRpbWUiOjE2ODA0MzgxOTh9fX1dfQ__&Signature=uXehtBbwR1CnOjNVQWQ4%7E42MzJVk5BX4cyrGNiMQY7oSr9%7EZFs5weMKAM9IGpHPwVaVgwxoeHU0f9P%7E%7El4ZXgs8dkk6NNlh20cn9GYn7q7l54-AwDQdKtZbg22ICTemRog2XslSGUSEUltDqCgYrwoEyOUIshbNK0EgTqHlP9-eg3529IuD2MJc27BTmPV2Fj3V-xuPGXo3RTsjHaMieuFxm6rvpU-g%7Elrs%7Ety3QcOeDlmNOJbt2tBE-GmBgHwagPFosq7-UyikfR5U9%7E%7ESbsZZsJQdV66wmkx-EGtWZ6gYXduE2ywz2nrgXXro7qgn207q0I8sH84jqdIZ4-wTFIQ__&Key-Pair-Id=KVTP0A1DKRTAX\n",
            "Resolving cdn-lfs.huggingface.co (cdn-lfs.huggingface.co)... 54.230.18.98, 54.230.18.21, 54.230.18.124, ...\n",
            "Connecting to cdn-lfs.huggingface.co (cdn-lfs.huggingface.co)|54.230.18.98|:443... connected.\n",
            "HTTP request sent, awaiting response... 200 OK\n",
            "Length: 4265097179 (4.0G) [binary/octet-stream]\n",
            "Saving to: ‘/content/stable-diffusion-webui/models/Stable-diffusion/chilloutmix_NiPrunedFp32Fix.safetensors’\n",
            "\n",
            "/content/stable-dif 100%[===================>]   3.97G  94.2MB/s    in 42s     \n",
            "\n",
            "2023-03-30 12:24:00 (96.5 MB/s) - ‘/content/stable-diffusion-webui/models/Stable-diffusion/chilloutmix_NiPrunedFp32Fix.safetensors’ saved [4265097179/4265097179]\n",
            "\n"
          ]
        }
      ]
    },
    {
      "cell_type": "code",
      "source": [
        "!wget https://huggingface.co/stabilityai/sd-vae-ft-mse-original/resolve/main/vae-ft-mse-840000-ema-pruned.safetensors -O /content/stable-diffusion-webui/models/VAE/vae-ft-mse-840000-ema-pruned.safetensorsvae-ft-mse-840000-ema-pruned.safetensors\n"
      ],
      "metadata": {
        "colab": {
          "base_uri": "https://localhost:8080/"
        },
        "id": "H5B7jqZ4eaL3",
        "outputId": "eac7deb2-49a1-489b-a701-fc3cd8b8f36f"
      },
      "execution_count": 6,
      "outputs": [
        {
          "output_type": "stream",
          "name": "stdout",
          "text": [
            "--2023-03-30 12:24:18--  https://huggingface.co/stabilityai/sd-vae-ft-mse-original/resolve/main/vae-ft-mse-840000-ema-pruned.safetensors\n",
            "Resolving huggingface.co (huggingface.co)... 35.173.225.216, 34.203.133.210, 54.82.45.103, ...\n",
            "Connecting to huggingface.co (huggingface.co)|35.173.225.216|:443... connected.\n",
            "HTTP request sent, awaiting response... 302 Found\n",
            "Location: https://cdn-lfs.huggingface.co/repos/ec/ee/eceee26c5834d8a75cf04eeb17dfc06d1d5fe1d80c2f19520b148c11e2e98c45/735e4c3a447a3255760d7f86845f09f937809baa529c17370d83e4c3758f3c75?response-content-disposition=attachment%3B+filename*%3DUTF-8%27%27vae-ft-mse-840000-ema-pruned.safetensors%3B+filename%3D%22vae-ft-mse-840000-ema-pruned.safetensors%22%3B&Expires=1680437364&Policy=eyJTdGF0ZW1lbnQiOlt7IlJlc291cmNlIjoiaHR0cHM6Ly9jZG4tbGZzLmh1Z2dpbmdmYWNlLmNvL3JlcG9zL2VjL2VlL2VjZWVlMjZjNTgzNGQ4YTc1Y2YwNGVlYjE3ZGZjMDZkMWQ1ZmUxZDgwYzJmMTk1MjBiMTQ4YzExZTJlOThjNDUvNzM1ZTRjM2E0NDdhMzI1NTc2MGQ3Zjg2ODQ1ZjA5ZjkzNzgwOWJhYTUyOWMxNzM3MGQ4M2U0YzM3NThmM2M3NT9yZXNwb25zZS1jb250ZW50LWRpc3Bvc2l0aW9uPSoiLCJDb25kaXRpb24iOnsiRGF0ZUxlc3NUaGFuIjp7IkFXUzpFcG9jaFRpbWUiOjE2ODA0MzczNjR9fX1dfQ__&Signature=dS4nSOYUmbpj9x0GG5Rlj8GIyTRcXZDZ8%7E3WfkQ72%7EyCmYp7yXy1oWWh%7E9QXAROGPV6OE2u9sF748p%7EnrBZE98%7ELWi2%7EjOXfArI8RFemX6rZJu0Js%7EtOZxO-E3%7EesTulLKfj0VKZ96gWHqNB4eIjllKqwqryqbs4xYdMGx7R4OQDcvzNu%7EW8%7EcPmAq-ibIG4RzKh7sLhNI69vxf-Gnc3IdvcEUVDZcJunQWA9tk9aQ7TwA9wF-qZ7xizBPGsAldofyBxR0tr%7EY7luCrZaumb96XaBNO7nEPbVwaHnCaxyxQgKoXI5zG%7EpioOz7g-j%7E09W5aMssglN3GDSQoTMWjKjw__&Key-Pair-Id=KVTP0A1DKRTAX [following]\n",
            "--2023-03-30 12:24:19--  https://cdn-lfs.huggingface.co/repos/ec/ee/eceee26c5834d8a75cf04eeb17dfc06d1d5fe1d80c2f19520b148c11e2e98c45/735e4c3a447a3255760d7f86845f09f937809baa529c17370d83e4c3758f3c75?response-content-disposition=attachment%3B+filename*%3DUTF-8%27%27vae-ft-mse-840000-ema-pruned.safetensors%3B+filename%3D%22vae-ft-mse-840000-ema-pruned.safetensors%22%3B&Expires=1680437364&Policy=eyJTdGF0ZW1lbnQiOlt7IlJlc291cmNlIjoiaHR0cHM6Ly9jZG4tbGZzLmh1Z2dpbmdmYWNlLmNvL3JlcG9zL2VjL2VlL2VjZWVlMjZjNTgzNGQ4YTc1Y2YwNGVlYjE3ZGZjMDZkMWQ1ZmUxZDgwYzJmMTk1MjBiMTQ4YzExZTJlOThjNDUvNzM1ZTRjM2E0NDdhMzI1NTc2MGQ3Zjg2ODQ1ZjA5ZjkzNzgwOWJhYTUyOWMxNzM3MGQ4M2U0YzM3NThmM2M3NT9yZXNwb25zZS1jb250ZW50LWRpc3Bvc2l0aW9uPSoiLCJDb25kaXRpb24iOnsiRGF0ZUxlc3NUaGFuIjp7IkFXUzpFcG9jaFRpbWUiOjE2ODA0MzczNjR9fX1dfQ__&Signature=dS4nSOYUmbpj9x0GG5Rlj8GIyTRcXZDZ8%7E3WfkQ72%7EyCmYp7yXy1oWWh%7E9QXAROGPV6OE2u9sF748p%7EnrBZE98%7ELWi2%7EjOXfArI8RFemX6rZJu0Js%7EtOZxO-E3%7EesTulLKfj0VKZ96gWHqNB4eIjllKqwqryqbs4xYdMGx7R4OQDcvzNu%7EW8%7EcPmAq-ibIG4RzKh7sLhNI69vxf-Gnc3IdvcEUVDZcJunQWA9tk9aQ7TwA9wF-qZ7xizBPGsAldofyBxR0tr%7EY7luCrZaumb96XaBNO7nEPbVwaHnCaxyxQgKoXI5zG%7EpioOz7g-j%7E09W5aMssglN3GDSQoTMWjKjw__&Key-Pair-Id=KVTP0A1DKRTAX\n",
            "Resolving cdn-lfs.huggingface.co (cdn-lfs.huggingface.co)... 54.230.18.124, 54.230.18.111, 54.230.18.21, ...\n",
            "Connecting to cdn-lfs.huggingface.co (cdn-lfs.huggingface.co)|54.230.18.124|:443... connected.\n",
            "HTTP request sent, awaiting response... 200 OK\n",
            "Length: 334641190 (319M) [binary/octet-stream]\n",
            "Saving to: ‘/content/stable-diffusion-webui/models/VAE/vae-ft-mse-840000-ema-pruned.safetensorsvae-ft-mse-840000-ema-pruned.safetensors’\n",
            "\n",
            "/content/stable-dif 100%[===================>] 319.14M   112MB/s    in 2.8s    \n",
            "\n",
            "2023-03-30 12:24:22 (112 MB/s) - ‘/content/stable-diffusion-webui/models/VAE/vae-ft-mse-840000-ema-pruned.safetensorsvae-ft-mse-840000-ema-pruned.safetensors’ saved [334641190/334641190]\n",
            "\n"
          ]
        }
      ]
    },
    {
      "cell_type": "code",
      "source": [
        "!git clone https://github.com/AUTOMATIC1111/stable-diffusion-webui\n",
        "%cd /content/stable-diffusion-webui/extensions\n",
        "!wget https://huggingface.co/SakerLy/chilloutmix_NiPrunedFp32Fix/resolve/main/chilloutmix_NiPrunedFp32Fix.safetensors -O /content/stable-diffusion-webui/models/Stable-diffusion/chilloutmix_NiPrunedFp32Fix.safetensors\n",
        "!wget https://huggingface.co/stabilityai/sd-vae-ft-mse-original/resolve/main/vae-ft-mse-840000-ema-pruned.safetensors -O /content/stable-diffusion-webui/models/VAE/vae-ft-mse-840000-ema-pruned.safetensorsvae-ft-mse-840000-ema-pruned.safetensors\n",
        "%cd /content/stable-diffusion-webui\n",
        "!python launch.py --share --xformers --enable-insecure-extension-access"
      ],
      "metadata": {
        "colab": {
          "base_uri": "https://localhost:8080/"
        },
        "id": "udzar4Z6feTK",
        "outputId": "4902aa7e-5774-48d4-bce4-b44e67c6a120"
      },
      "execution_count": null,
      "outputs": [
        {
          "output_type": "stream",
          "name": "stdout",
          "text": [
            "Cloning into 'stable-diffusion-webui'...\n",
            "remote: Enumerating objects: 17850, done.\u001b[K\n",
            "remote: Counting objects: 100% (4/4), done.\u001b[K\n",
            "remote: Compressing objects: 100% (4/4), done.\u001b[K\n",
            "remote: Total 17850 (delta 0), reused 0 (delta 0), pack-reused 17846\u001b[K\n",
            "Receiving objects: 100% (17850/17850), 28.23 MiB | 11.81 MiB/s, done.\n",
            "Resolving deltas: 100% (12499/12499), done.\n",
            "/content/stable-diffusion-webui/extensions\n",
            "--2023-03-30 12:29:44--  https://huggingface.co/SakerLy/chilloutmix_NiPrunedFp32Fix/resolve/main/chilloutmix_NiPrunedFp32Fix.safetensors\n",
            "Resolving huggingface.co (huggingface.co)... 35.173.225.216, 54.82.45.103, 34.203.133.210, ...\n",
            "Connecting to huggingface.co (huggingface.co)|35.173.225.216|:443... connected.\n",
            "HTTP request sent, awaiting response... 302 Found\n",
            "Location: https://cdn-lfs.huggingface.co/repos/d9/fb/d9fbecac7bcdab2a897dd2e2306fe148cd06cec45416a2b4a843d64f147cc12e/fc2511737a54c5e80b89ab03e0ab4b98d051ab187f92860f3cd664dc9d08b271?response-content-disposition=attachment%3B+filename*%3DUTF-8%27%27chilloutmix_NiPrunedFp32Fix.safetensors%3B+filename%3D%22chilloutmix_NiPrunedFp32Fix.safetensors%22%3B&Expires=1680438585&Policy=eyJTdGF0ZW1lbnQiOlt7IlJlc291cmNlIjoiaHR0cHM6Ly9jZG4tbGZzLmh1Z2dpbmdmYWNlLmNvL3JlcG9zL2Q5L2ZiL2Q5ZmJlY2FjN2JjZGFiMmE4OTdkZDJlMjMwNmZlMTQ4Y2QwNmNlYzQ1NDE2YTJiNGE4NDNkNjRmMTQ3Y2MxMmUvZmMyNTExNzM3YTU0YzVlODBiODlhYjAzZTBhYjRiOThkMDUxYWIxODdmOTI4NjBmM2NkNjY0ZGM5ZDA4YjI3MT9yZXNwb25zZS1jb250ZW50LWRpc3Bvc2l0aW9uPSoiLCJDb25kaXRpb24iOnsiRGF0ZUxlc3NUaGFuIjp7IkFXUzpFcG9jaFRpbWUiOjE2ODA0Mzg1ODV9fX1dfQ__&Signature=cjwjJok%7Ezpl%7E39tci8ym8kJY-TmTsOePS2UVSS1IHPWg5LjJHvhC7PY36T8sw0YDAdqR8xUncCXV6PmRiI7Hdb3wL6n0OybjUCGj6235dHRKDCURwl0p5Tc8isANdzfvOdJPsjJdwbca4GnIqcCmATHxnhrOsBCBhDqo8d84%7E546moEGPxrl439uZUW1iTqj1vrB8mYT3BwmXq01AWvP-ZdgoSTSUD25JbkFnm7aJWQpGAZzVKlJN6mUzE1hQvVdwdd06%7EzxZFFSbNKUPU9GFYywW7Tm5JMj2h-s27fkWzBrmMji4-0MUQVPobniei81T0odBby57KifEwpyVaVUgw__&Key-Pair-Id=KVTP0A1DKRTAX [following]\n",
            "--2023-03-30 12:29:45--  https://cdn-lfs.huggingface.co/repos/d9/fb/d9fbecac7bcdab2a897dd2e2306fe148cd06cec45416a2b4a843d64f147cc12e/fc2511737a54c5e80b89ab03e0ab4b98d051ab187f92860f3cd664dc9d08b271?response-content-disposition=attachment%3B+filename*%3DUTF-8%27%27chilloutmix_NiPrunedFp32Fix.safetensors%3B+filename%3D%22chilloutmix_NiPrunedFp32Fix.safetensors%22%3B&Expires=1680438585&Policy=eyJTdGF0ZW1lbnQiOlt7IlJlc291cmNlIjoiaHR0cHM6Ly9jZG4tbGZzLmh1Z2dpbmdmYWNlLmNvL3JlcG9zL2Q5L2ZiL2Q5ZmJlY2FjN2JjZGFiMmE4OTdkZDJlMjMwNmZlMTQ4Y2QwNmNlYzQ1NDE2YTJiNGE4NDNkNjRmMTQ3Y2MxMmUvZmMyNTExNzM3YTU0YzVlODBiODlhYjAzZTBhYjRiOThkMDUxYWIxODdmOTI4NjBmM2NkNjY0ZGM5ZDA4YjI3MT9yZXNwb25zZS1jb250ZW50LWRpc3Bvc2l0aW9uPSoiLCJDb25kaXRpb24iOnsiRGF0ZUxlc3NUaGFuIjp7IkFXUzpFcG9jaFRpbWUiOjE2ODA0Mzg1ODV9fX1dfQ__&Signature=cjwjJok%7Ezpl%7E39tci8ym8kJY-TmTsOePS2UVSS1IHPWg5LjJHvhC7PY36T8sw0YDAdqR8xUncCXV6PmRiI7Hdb3wL6n0OybjUCGj6235dHRKDCURwl0p5Tc8isANdzfvOdJPsjJdwbca4GnIqcCmATHxnhrOsBCBhDqo8d84%7E546moEGPxrl439uZUW1iTqj1vrB8mYT3BwmXq01AWvP-ZdgoSTSUD25JbkFnm7aJWQpGAZzVKlJN6mUzE1hQvVdwdd06%7EzxZFFSbNKUPU9GFYywW7Tm5JMj2h-s27fkWzBrmMji4-0MUQVPobniei81T0odBby57KifEwpyVaVUgw__&Key-Pair-Id=KVTP0A1DKRTAX\n",
            "Resolving cdn-lfs.huggingface.co (cdn-lfs.huggingface.co)... 13.227.254.52, 13.227.254.123, 13.227.254.47, ...\n",
            "Connecting to cdn-lfs.huggingface.co (cdn-lfs.huggingface.co)|13.227.254.52|:443... connected.\n",
            "HTTP request sent, awaiting response... 200 OK\n",
            "Length: 4265097179 (4.0G) [binary/octet-stream]\n",
            "Saving to: ‘/content/stable-diffusion-webui/models/Stable-diffusion/chilloutmix_NiPrunedFp32Fix.safetensors’\n",
            "\n",
            "/content/stable-dif 100%[===================>]   3.97G   152MB/s    in 27s     \n",
            "\n",
            "2023-03-30 12:30:11 (153 MB/s) - ‘/content/stable-diffusion-webui/models/Stable-diffusion/chilloutmix_NiPrunedFp32Fix.safetensors’ saved [4265097179/4265097179]\n",
            "\n",
            "--2023-03-30 12:30:12--  https://huggingface.co/stabilityai/sd-vae-ft-mse-original/resolve/main/vae-ft-mse-840000-ema-pruned.safetensors\n",
            "Resolving huggingface.co (huggingface.co)... 52.2.178.255, 54.82.45.103, 35.173.225.216, ...\n",
            "Connecting to huggingface.co (huggingface.co)|52.2.178.255|:443... connected.\n",
            "HTTP request sent, awaiting response... 302 Found\n",
            "Location: https://cdn-lfs.huggingface.co/repos/ec/ee/eceee26c5834d8a75cf04eeb17dfc06d1d5fe1d80c2f19520b148c11e2e98c45/735e4c3a447a3255760d7f86845f09f937809baa529c17370d83e4c3758f3c75?response-content-disposition=attachment%3B+filename*%3DUTF-8%27%27vae-ft-mse-840000-ema-pruned.safetensors%3B+filename%3D%22vae-ft-mse-840000-ema-pruned.safetensors%22%3B&Expires=1680438012&Policy=eyJTdGF0ZW1lbnQiOlt7IlJlc291cmNlIjoiaHR0cHM6Ly9jZG4tbGZzLmh1Z2dpbmdmYWNlLmNvL3JlcG9zL2VjL2VlL2VjZWVlMjZjNTgzNGQ4YTc1Y2YwNGVlYjE3ZGZjMDZkMWQ1ZmUxZDgwYzJmMTk1MjBiMTQ4YzExZTJlOThjNDUvNzM1ZTRjM2E0NDdhMzI1NTc2MGQ3Zjg2ODQ1ZjA5ZjkzNzgwOWJhYTUyOWMxNzM3MGQ4M2U0YzM3NThmM2M3NT9yZXNwb25zZS1jb250ZW50LWRpc3Bvc2l0aW9uPSoiLCJDb25kaXRpb24iOnsiRGF0ZUxlc3NUaGFuIjp7IkFXUzpFcG9jaFRpbWUiOjE2ODA0MzgwMTJ9fX1dfQ__&Signature=q3NcT0cmElUpGTMpdFacxWzsY3YE57BdmsDmT3s2M%7E%7ELlm8s%7EsiunAmMGij66G9Ox3lokIrbgNg71uHVwzleF1OTu4mlcOgKi1gcfLvlmvl6u1ufk%7EtigHXK-%7E-NGSiLfGOSdv0c6U0eIHpbJ-tyz9QX3WdK-%7Ev88BZfz3urs0ooHUbnGbb4EXmgsBLfQplcMEhf8LE8YC3zUU8bLAr2lee0mDsEf6tV2p8Hav78I6LP2-0LPLdEkFRImOp3I4q6TfnhZIuilCdA1%7ERy79ykffzqCFEyknB4J%7EwHh9NYPXkK%7ES-f--fnskGSEtpMHLX2A8qKxYZ6OHl79GvsSqVknw__&Key-Pair-Id=KVTP0A1DKRTAX [following]\n",
            "--2023-03-30 12:30:13--  https://cdn-lfs.huggingface.co/repos/ec/ee/eceee26c5834d8a75cf04eeb17dfc06d1d5fe1d80c2f19520b148c11e2e98c45/735e4c3a447a3255760d7f86845f09f937809baa529c17370d83e4c3758f3c75?response-content-disposition=attachment%3B+filename*%3DUTF-8%27%27vae-ft-mse-840000-ema-pruned.safetensors%3B+filename%3D%22vae-ft-mse-840000-ema-pruned.safetensors%22%3B&Expires=1680438012&Policy=eyJTdGF0ZW1lbnQiOlt7IlJlc291cmNlIjoiaHR0cHM6Ly9jZG4tbGZzLmh1Z2dpbmdmYWNlLmNvL3JlcG9zL2VjL2VlL2VjZWVlMjZjNTgzNGQ4YTc1Y2YwNGVlYjE3ZGZjMDZkMWQ1ZmUxZDgwYzJmMTk1MjBiMTQ4YzExZTJlOThjNDUvNzM1ZTRjM2E0NDdhMzI1NTc2MGQ3Zjg2ODQ1ZjA5ZjkzNzgwOWJhYTUyOWMxNzM3MGQ4M2U0YzM3NThmM2M3NT9yZXNwb25zZS1jb250ZW50LWRpc3Bvc2l0aW9uPSoiLCJDb25kaXRpb24iOnsiRGF0ZUxlc3NUaGFuIjp7IkFXUzpFcG9jaFRpbWUiOjE2ODA0MzgwMTJ9fX1dfQ__&Signature=q3NcT0cmElUpGTMpdFacxWzsY3YE57BdmsDmT3s2M%7E%7ELlm8s%7EsiunAmMGij66G9Ox3lokIrbgNg71uHVwzleF1OTu4mlcOgKi1gcfLvlmvl6u1ufk%7EtigHXK-%7E-NGSiLfGOSdv0c6U0eIHpbJ-tyz9QX3WdK-%7Ev88BZfz3urs0ooHUbnGbb4EXmgsBLfQplcMEhf8LE8YC3zUU8bLAr2lee0mDsEf6tV2p8Hav78I6LP2-0LPLdEkFRImOp3I4q6TfnhZIuilCdA1%7ERy79ykffzqCFEyknB4J%7EwHh9NYPXkK%7ES-f--fnskGSEtpMHLX2A8qKxYZ6OHl79GvsSqVknw__&Key-Pair-Id=KVTP0A1DKRTAX\n",
            "Resolving cdn-lfs.huggingface.co (cdn-lfs.huggingface.co)... 13.227.254.33, 13.227.254.52, 13.227.254.123, ...\n",
            "Connecting to cdn-lfs.huggingface.co (cdn-lfs.huggingface.co)|13.227.254.33|:443... connected.\n",
            "HTTP request sent, awaiting response... 200 OK\n",
            "Length: 334641190 (319M) [binary/octet-stream]\n",
            "Saving to: ‘/content/stable-diffusion-webui/models/VAE/vae-ft-mse-840000-ema-pruned.safetensorsvae-ft-mse-840000-ema-pruned.safetensors’\n",
            "\n",
            "/content/stable-dif 100%[===================>] 319.14M   295MB/s    in 1.1s    \n",
            "\n",
            "2023-03-30 12:30:14 (295 MB/s) - ‘/content/stable-diffusion-webui/models/VAE/vae-ft-mse-840000-ema-pruned.safetensorsvae-ft-mse-840000-ema-pruned.safetensors’ saved [334641190/334641190]\n",
            "\n",
            "/content/stable-diffusion-webui\n",
            "Python 3.9.16 (main, Dec  7 2022, 01:11:51) \n",
            "[GCC 9.4.0]\n",
            "Commit hash: 22bcc7be428c94e9408f589966c2040187245d81\n",
            "Installing gfpgan\n",
            "Installing clip\n",
            "Installing open_clip\n",
            "Installing xformers\n",
            "Cloning Stable Diffusion into /content/stable-diffusion-webui/repositories/stable-diffusion-stability-ai...\n",
            "Cloning Taming Transformers into /content/stable-diffusion-webui/repositories/taming-transformers...\n",
            "Cloning K-diffusion into /content/stable-diffusion-webui/repositories/k-diffusion...\n",
            "Cloning CodeFormer into /content/stable-diffusion-webui/repositories/CodeFormer...\n",
            "Cloning BLIP into /content/stable-diffusion-webui/repositories/BLIP...\n",
            "Installing requirements for CodeFormer\n",
            "Installing requirements for Web UI\n",
            "Launching Web UI with arguments: --share --xformers --enable-insecure-extension-access\n",
            "2023-03-30 12:32:43.522399: I tensorflow/core/platform/cpu_feature_guard.cc:193] This TensorFlow binary is optimized with oneAPI Deep Neural Network Library (oneDNN) to use the following CPU instructions in performance-critical operations:  AVX2 FMA\n",
            "To enable them in other operations, rebuild TensorFlow with the appropriate compiler flags.\n",
            "2023-03-30 12:32:45.478433: W tensorflow/compiler/xla/stream_executor/platform/default/dso_loader.cc:64] Could not load dynamic library 'libnvinfer.so.7'; dlerror: libnvinfer.so.7: cannot open shared object file: No such file or directory; LD_LIBRARY_PATH: /usr/lib64-nvidia\n",
            "2023-03-30 12:32:45.478566: W tensorflow/compiler/xla/stream_executor/platform/default/dso_loader.cc:64] Could not load dynamic library 'libnvinfer_plugin.so.7'; dlerror: libnvinfer_plugin.so.7: cannot open shared object file: No such file or directory; LD_LIBRARY_PATH: /usr/lib64-nvidia\n",
            "2023-03-30 12:32:45.478586: W tensorflow/compiler/tf2tensorrt/utils/py_utils.cc:38] TF-TRT Warning: Cannot dlopen some TensorRT libraries. If you would like to use Nvidia GPU with TensorRT, please make sure the missing libraries mentioned above are installed properly.\n",
            "Calculating sha256 for /content/stable-diffusion-webui/models/Stable-diffusion/chilloutmix_NiPrunedFp32Fix.safetensors: fc2511737a54c5e80b89ab03e0ab4b98d051ab187f92860f3cd664dc9d08b271\n",
            "Loading weights [fc2511737a] from /content/stable-diffusion-webui/models/Stable-diffusion/chilloutmix_NiPrunedFp32Fix.safetensors\n",
            "Creating model from config: /content/stable-diffusion-webui/configs/v1-inference.yaml\n",
            "LatentDiffusion: Running in eps-prediction mode\n",
            "DiffusionWrapper has 859.52 M params.\n",
            "Downloading (…)olve/main/vocab.json: 100% 961k/961k [00:01<00:00, 691kB/s]\n",
            "Downloading (…)olve/main/merges.txt: 100% 525k/525k [00:00<00:00, 565kB/s]\n",
            "Downloading (…)cial_tokens_map.json: 100% 389/389 [00:00<00:00, 133kB/s]\n",
            "Downloading (…)okenizer_config.json: 100% 905/905 [00:00<00:00, 329kB/s]\n",
            "Downloading (…)lve/main/config.json: 100% 4.52k/4.52k [00:00<00:00, 622kB/s]\n",
            "Applying xformers cross attention optimization.\n",
            "Textual inversion embeddings loaded(0): \n",
            "Model loaded in 51.3s (calculate hash: 24.0s, load weights from disk: 0.2s, create model: 13.0s, apply weights to model: 5.4s, apply half(): 1.3s, load VAE: 6.7s, move model to device: 0.6s).\n",
            "Running on local URL:  http://127.0.0.1:7860\n",
            "Running on public URL: https://5c1bffa04ca8d6f652.gradio.live\n",
            "\n",
            "This share link expires in 72 hours. For free permanent hosting and GPU upgrades (NEW!), check out Spaces: https://huggingface.co/spaces\n",
            "Startup time: 66.4s (import torch: 4.6s, import gradio: 1.4s, import ldm: 0.7s, other imports: 2.1s, setup codeformer: 0.2s, load scripts: 1.0s, load SD checkpoint: 51.4s, create ui: 0.4s, gradio launch: 4.7s).\n",
            "Closing server running on port: 7860\n",
            "Restarting UI...\n",
            "[AddNet] Updating model hashes...\n",
            "0it [00:00, ?it/s]\n",
            "[AddNet] Updating model hashes...\n",
            "0it [00:00, ?it/s]\n",
            "Running on local URL:  http://127.0.0.1:7860\n",
            "Running on public URL: https://230ef6702c8b1a225a.gradio.live\n",
            "\n",
            "This share link expires in 72 hours. For free permanent hosting and GPU upgrades (NEW!), check out Spaces: https://huggingface.co/spaces\n",
            "Startup time: 8.7s (load scripts: 0.4s, create ui: 0.6s, gradio launch: 7.8s).\n",
            "Couldn't find Lora with name mix4\n",
            "  0% 0/20 [00:00<?, ?it/s]\n",
            "  5% 1/20 [00:07<02:13,  7.05s/it]\n",
            " 15% 3/20 [00:07<00:29,  1.73s/it]\n",
            " 20% 4/20 [00:07<00:17,  1.12s/it]\n",
            " 25% 5/20 [00:07<00:11,  1.27it/s]\n",
            " 30% 6/20 [00:08<00:08,  1.72it/s]\n",
            " 35% 7/20 [00:08<00:05,  2.20it/s]\n",
            " 40% 8/20 [00:08<00:04,  2.70it/s]\n",
            " 45% 9/20 [00:08<00:03,  3.18it/s]\n",
            " 50% 10/20 [00:08<00:02,  3.62it/s]\n",
            " 55% 11/20 [00:08<00:02,  3.99it/s]\n",
            " 60% 12/20 [00:09<00:01,  4.30it/s]\n",
            " 65% 13/20 [00:09<00:01,  4.55it/s]\n",
            " 70% 14/20 [00:09<00:01,  4.69it/s]\n",
            " 75% 15/20 [00:09<00:01,  4.47it/s]\n",
            " 80% 16/20 [00:10<00:00,  4.41it/s]\n",
            " 85% 17/20 [00:10<00:00,  4.65it/s]\n",
            " 90% 18/20 [00:10<00:00,  4.80it/s]\n",
            " 95% 19/20 [00:10<00:00,  4.92it/s]\n",
            "100% 20/20 [00:10<00:00,  1.85it/s]\n",
            "\n",
            "Total progress: 100% 20/20 [00:08<00:00,  2.31it/s]\n",
            "Couldn't find Lora with name mix4\n",
            "  0% 0/20 [00:00<?, ?it/s]\n",
            "  5% 1/20 [00:03<01:04,  3.40s/it]\n",
            " 15% 3/20 [00:03<00:15,  1.13it/s]\n",
            " 20% 4/20 [00:03<00:09,  1.66it/s]\n",
            " 25% 5/20 [00:04<00:06,  2.25it/s]\n",
            " 30% 6/20 [00:04<00:04,  2.85it/s]\n",
            " 35% 7/20 [00:04<00:03,  3.44it/s]\n",
            " 40% 8/20 [00:04<00:03,  3.99it/s]\n",
            " 45% 9/20 [00:04<00:02,  4.47it/s]\n",
            " 50% 10/20 [00:04<00:02,  4.86it/s]\n",
            " 55% 11/20 [00:05<00:01,  5.15it/s]\n",
            " 60% 12/20 [00:05<00:01,  5.37it/s]\n",
            " 65% 13/20 [00:05<00:01,  5.56it/s]\n",
            " 70% 14/20 [00:05<00:01,  5.71it/s]\n",
            " 75% 15/20 [00:05<00:00,  5.83it/s]\n",
            " 80% 16/20 [00:05<00:00,  5.90it/s]\n",
            " 85% 17/20 [00:06<00:00,  5.90it/s]\n",
            " 90% 18/20 [00:06<00:00,  5.90it/s]\n",
            " 95% 19/20 [00:06<00:00,  5.94it/s]\n",
            "100% 20/20 [00:06<00:00,  3.05it/s]\n",
            "\n",
            "Total progress: 100% 20/20 [00:03<00:00,  5.78it/s]\n",
            "Couldn't find Lora with name mix4\n",
            "  0% 0/20 [00:00<?, ?it/s]\n",
            "  5% 1/20 [00:00<00:05,  3.72it/s]\n",
            " 15% 3/20 [00:00<00:03,  5.02it/s]\n",
            " 20% 4/20 [00:00<00:03,  5.22it/s]\n",
            " 25% 5/20 [00:00<00:02,  5.34it/s]\n",
            " 30% 6/20 [00:01<00:02,  5.42it/s]\n",
            " 35% 7/20 [00:01<00:02,  5.47it/s]\n",
            " 40% 8/20 [00:01<00:02,  5.48it/s]\n",
            " 45% 9/20 [00:01<00:01,  5.50it/s]\n",
            " 50% 10/20 [00:01<00:01,  5.49it/s]\n",
            " 55% 11/20 [00:02<00:01,  5.50it/s]\n",
            " 60% 12/20 [00:02<00:01,  5.52it/s]\n",
            " 65% 13/20 [00:02<00:01,  5.54it/s]\n",
            " 70% 14/20 [00:02<00:01,  5.54it/s]\n",
            " 75% 15/20 [00:02<00:00,  5.54it/s]\n",
            " 80% 16/20 [00:02<00:00,  5.54it/s]\n",
            " 85% 17/20 [00:03<00:00,  5.54it/s]\n",
            " 90% 18/20 [00:03<00:00,  5.52it/s]\n",
            " 95% 19/20 [00:03<00:00,  5.52it/s]\n",
            "100% 20/20 [00:03<00:00,  5.41it/s]\n",
            "\n",
            "Total progress: 100% 20/20 [00:03<00:00,  5.35it/s]\n",
            "  0% 0/20 [00:00<?, ?it/s]\n",
            "  5% 1/20 [00:00<00:04,  4.00it/s]\n",
            " 15% 3/20 [00:00<00:03,  5.12it/s]\n",
            " 20% 4/20 [00:00<00:03,  5.29it/s]\n",
            " 25% 5/20 [00:00<00:02,  5.38it/s]\n",
            " 30% 6/20 [00:01<00:02,  5.44it/s]\n",
            " 35% 7/20 [00:01<00:02,  5.49it/s]\n",
            " 40% 8/20 [00:01<00:02,  5.53it/s]\n",
            " 45% 9/20 [00:01<00:01,  5.51it/s]\n",
            " 50% 10/20 [00:01<00:01,  5.52it/s]\n",
            " 55% 11/20 [00:02<00:01,  5.55it/s]\n",
            " 60% 12/20 [00:02<00:01,  5.50it/s]\n",
            " 65% 13/20 [00:02<00:01,  5.51it/s]\n",
            " 70% 14/20 [00:02<00:01,  5.49it/s]\n",
            " 75% 15/20 [00:02<00:00,  5.47it/s]\n",
            " 80% 16/20 [00:02<00:00,  5.50it/s]\n",
            " 85% 17/20 [00:03<00:00,  5.50it/s]\n",
            " 90% 18/20 [00:03<00:00,  5.51it/s]\n",
            " 95% 19/20 [00:03<00:00,  5.51it/s]\n",
            "100% 20/20 [00:03<00:00,  5.43it/s]\n",
            "\n",
            "Total progress: 100% 20/20 [00:03<00:00,  5.38it/s]\n",
            "Couldn't find Lora with name luckyStrikeMix_V02Realistic\n",
            "Couldn't find Lora with name tiedShirt_v10\n",
            "  0% 0/20 [00:00<?, ?it/s]\n",
            "  5% 1/20 [00:00<00:04,  4.15it/s]\n",
            " 15% 3/20 [00:00<00:02,  5.77it/s]\n",
            " 20% 4/20 [00:00<00:02,  6.07it/s]\n",
            " 25% 5/20 [00:00<00:02,  6.21it/s]\n",
            " 30% 6/20 [00:01<00:02,  6.31it/s]\n",
            " 35% 7/20 [00:01<00:02,  6.39it/s]\n",
            " 40% 8/20 [00:01<00:01,  6.44it/s]\n",
            " 45% 9/20 [00:01<00:01,  6.48it/s]\n",
            " 50% 10/20 [00:01<00:01,  6.50it/s]\n",
            " 55% 11/20 [00:01<00:01,  6.50it/s]\n",
            " 60% 12/20 [00:01<00:01,  6.48it/s]\n",
            " 65% 13/20 [00:02<00:01,  6.48it/s]\n",
            " 70% 14/20 [00:02<00:00,  6.50it/s]\n",
            " 75% 15/20 [00:02<00:00,  6.51it/s]\n",
            " 80% 16/20 [00:02<00:00,  6.52it/s]\n",
            " 85% 17/20 [00:02<00:00,  6.50it/s]\n",
            " 90% 18/20 [00:02<00:00,  6.50it/s]\n",
            " 95% 19/20 [00:03<00:00,  6.51it/s]\n",
            "100% 20/20 [00:03<00:00,  6.34it/s]\n",
            "\n",
            "Total progress: 100% 20/20 [00:03<00:00,  6.13it/s]\n",
            "Couldn't find Lora with name AG-sun\n",
            "  0% 0/20 [00:00<?, ?it/s]\n",
            "  5% 1/20 [00:00<00:05,  3.73it/s]\n",
            " 10% 2/20 [00:00<00:04,  4.27it/s]\n",
            " 15% 3/20 [00:00<00:03,  4.72it/s]\n",
            " 20% 4/20 [00:00<00:03,  4.97it/s]\n",
            " 25% 5/20 [00:01<00:02,  5.12it/s]\n",
            " 30% 6/20 [00:01<00:02,  5.20it/s]\n",
            " 35% 7/20 [00:01<00:02,  5.27it/s]\n",
            " 40% 8/20 [00:01<00:02,  5.31it/s]\n",
            " 45% 9/20 [00:01<00:02,  5.33it/s]\n",
            " 50% 10/20 [00:01<00:01,  5.35it/s]\n",
            " 55% 11/20 [00:02<00:01,  5.37it/s]\n",
            " 60% 12/20 [00:02<00:01,  5.37it/s]\n",
            " 65% 13/20 [00:02<00:01,  5.37it/s]\n",
            " 70% 14/20 [00:02<00:01,  5.38it/s]\n",
            " 75% 15/20 [00:02<00:00,  5.38it/s]\n",
            " 80% 16/20 [00:03<00:00,  5.39it/s]\n",
            " 85% 17/20 [00:03<00:00,  5.38it/s]\n",
            " 90% 18/20 [00:03<00:00,  5.37it/s]\n",
            " 95% 19/20 [00:03<00:00,  5.37it/s]\n",
            "100% 20/20 [00:03<00:00,  5.23it/s]\n",
            "\n",
            "Total progress: 100% 20/20 [00:03<00:00,  5.16it/s]\n",
            "Couldn't find Lora with name AG-tina\n",
            "  0% 0/20 [00:00<?, ?it/s]\n",
            "  5% 1/20 [00:00<00:04,  4.43it/s]\n",
            " 15% 3/20 [00:00<00:02,  5.84it/s]\n",
            " 20% 4/20 [00:00<00:02,  6.08it/s]\n",
            " 25% 5/20 [00:00<00:02,  6.18it/s]\n",
            " 30% 6/20 [00:01<00:02,  6.25it/s]\n",
            " 35% 7/20 [00:01<00:02,  6.27it/s]\n",
            " 40% 8/20 [00:01<00:01,  6.36it/s]\n",
            " 45% 9/20 [00:01<00:01,  6.36it/s]\n",
            " 50% 10/20 [00:01<00:01,  6.34it/s]\n",
            " 55% 11/20 [00:01<00:01,  6.31it/s]\n",
            " 60% 12/20 [00:01<00:01,  6.31it/s]\n",
            " 65% 13/20 [00:02<00:01,  6.31it/s]\n",
            " 70% 14/20 [00:02<00:00,  6.34it/s]\n",
            " 75% 15/20 [00:02<00:00,  6.35it/s]\n",
            " 80% 16/20 [00:02<00:00,  6.33it/s]\n",
            " 85% 17/20 [00:02<00:00,  6.31it/s]\n",
            " 90% 18/20 [00:02<00:00,  6.28it/s]\n",
            " 95% 19/20 [00:03<00:00,  6.27it/s]\n",
            "100% 20/20 [00:03<00:00,  6.22it/s]\n",
            "\n",
            "Total progress: 100% 20/20 [00:03<00:00,  5.99it/s]\n"
          ]
        }
      ]
    }
  ]
}